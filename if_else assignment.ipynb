{
 "cells": [
  {
   "cell_type": "code",
   "execution_count": 1,
   "id": "6fd9ec20-a80a-401d-848e-7033145b8003",
   "metadata": {},
   "outputs": [
    {
     "name": "stdin",
     "output_type": "stream",
     "text": [
      "Enter the age:  7\n",
      "Enter the age:  4\n",
      "Enter the age:  1\n",
      "Enter the age:  10\n"
     ]
    },
    {
     "name": "stdout",
     "output_type": "stream",
     "text": [
      "The youngest one is  1\n"
     ]
    }
   ],
   "source": [
    "age1 = int(input(\"Enter the age: \"))\n",
    "age2 = int(input(\"Enter the age: \"))\n",
    "age3 = int(input(\"Enter the age: \"))\n",
    "age4 = int(input(\"Enter the age: \"))\n",
    "if age1 <= age2 and age2 <=age3 and age3 <=age4:\n",
    "    print(\"The youngest one is \",age1)\n",
    "elif age2 <=age1 and age2 <=age3 and age2 <=age4:\n",
    "    print(\"The youngest one is \",age2)\n",
    "elif age3 <=age1 and age3 <=age2 and age3 <=age4:\n",
    "    print(\"The youngest one is \",age3)\n",
    "else:\n",
    "    print(\"The youngest one is \",age4)"
   ]
  },
  {
   "cell_type": "code",
   "execution_count": 2,
   "id": "b835d405-e257-4aa9-9b98-9b0852fb660c",
   "metadata": {},
   "outputs": [
    {
     "name": "stdin",
     "output_type": "stream",
     "text": [
      "Enter the number:  82\n"
     ]
    },
    {
     "name": "stdout",
     "output_type": "stream",
     "text": [
      "Grade B\n"
     ]
    }
   ],
   "source": [
    "input = int(input(\"Enter the number: \"))\n",
    "\n",
    "if input >90:\n",
    "    print(\"Grade A\")\n",
    "elif input >80:\n",
    "    print(\"Grade B\")\n",
    "elif input >=60:\n",
    "    print(\"Grade C\")\n",
    "elif input <=60:\n",
    "    print(\"Grade D\")"
   ]
  },
  {
   "cell_type": "code",
   "execution_count": 3,
   "id": "db659d9f-dc53-4ad2-92e1-306eaa37fcd8",
   "metadata": {},
   "outputs": [
    {
     "ename": "TypeError",
     "evalue": "'int' object is not callable",
     "output_type": "error",
     "traceback": [
      "\u001b[1;31m---------------------------------------------------------------------------\u001b[0m",
      "\u001b[1;31mTypeError\u001b[0m                                 Traceback (most recent call last)",
      "Cell \u001b[1;32mIn[3], line 1\u001b[0m\n\u001b[1;32m----> 1\u001b[0m salary \u001b[38;5;241m=\u001b[39m \u001b[38;5;28mint\u001b[39m(\u001b[38;5;28;43minput\u001b[39;49m\u001b[43m(\u001b[49m\u001b[38;5;124;43m\"\u001b[39;49m\u001b[38;5;124;43mEnter the salary: \u001b[39;49m\u001b[38;5;124;43m\"\u001b[39;49m\u001b[43m)\u001b[49m)\n\u001b[0;32m      2\u001b[0m years_service \u001b[38;5;241m=\u001b[39m \u001b[38;5;28mint\u001b[39m(\u001b[38;5;28minput\u001b[39m(\u001b[38;5;124m\"\u001b[39m\u001b[38;5;124mEnter your years of service: \u001b[39m\u001b[38;5;124m\"\u001b[39m))\n\u001b[0;32m      3\u001b[0m \u001b[38;5;28;01mif\u001b[39;00m years_service \u001b[38;5;241m>\u001b[39m \u001b[38;5;241m10\u001b[39m:\n",
      "\u001b[1;31mTypeError\u001b[0m: 'int' object is not callable"
     ]
    }
   ],
   "source": [
    "salary = int(input(\"Enter the salary: \"))\n",
    "years_service = int(input(\"Enter your years of service: \"))\n",
    "if years_service > 10:\n",
    "    bonus_percentage = 10\n",
    "elif 6<= years_service <=10:\n",
    "    bonus_percentage = 8\n",
    "else:\n",
    "    bonus_percentage = 5\n",
    "bonus_amount = salary*(bonus_percentage / 100)\n",
    "print(\"Your net bonus amount is:\",bonus_amount)"
   ]
  },
  {
   "cell_type": "code",
   "execution_count": null,
   "id": "c46c382c-512c-4db6-982b-d07ff67eeea0",
   "metadata": {},
   "outputs": [],
   "source": [
    "num1 = int(input(\"Enter the number: \"))\n",
    "num2 = int(input(\"Enter the number: \"))\n",
    "num3 = int(input(\"Enter the nummber: \"))\n",
    "if (num1>=num2 and num1<=num3) or (num1<=num2 and num1>=num3):\n",
    "    second_largest = num1\n",
    "elif (num2 >= num1 and num2 <= num3) or (num2<=num1 and num2>=num3):\n",
    "    \n",
    "    second_largest = num2\n",
    "    \n",
    "else:\n",
    "    second_largest = num3\n",
    "print(\"The second largest number is:\",second_largest)"
   ]
  },
  {
   "cell_type": "code",
   "execution_count": null,
   "id": "4352fbd6-b5b8-4c8a-b26a-333a7c1a142e",
   "metadata": {},
   "outputs": [],
   "source": [
    "marked_price = int(input(\"Enter the marked price: \"))\n",
    "if marked_price >10000:\n",
    "    discount = 20\n",
    "elif marked_price >7000:\n",
    "    discount = 15\n",
    "else:\n",
    "    discount = 10\n",
    "discount_amount = marked_price * (discount / 100)\n",
    "net_amount = marked_price - discount_amount\n",
    "print(\"The net amount to pay is:\",net_amount)"
   ]
  },
  {
   "cell_type": "code",
   "execution_count": null,
   "id": "c2c7f3a3-0388-47df-98b0-cc97beb8ee27",
   "metadata": {},
   "outputs": [],
   "source": [
    "marks1 = int(input(\"Enter your english subject marks: \"))\n",
    "marks2 = int(input(\"Enter your Maths subject marks: \"))\n",
    "marks3 = int(input(\"Enter your Science subject marks: \"))\n",
    "marks4 = int(input(\"Enter your social Studies subject marks: \"))\n",
    "\n",
    "if marks1 >80 and marks2 >80 and marks3 >80 and marks4 >80:\n",
    "    print(\"You will get Science Stream\")\n",
    "elif marks1 > 80 and marks2 and marks3 >50:\n",
    "    print(\"commerce Stream\")\n",
    "else:\n",
    "    print(\"you will get humanities stream\")\n"
   ]
  },
  {
   "cell_type": "code",
   "execution_count": null,
   "id": "a648a883-2e28-4599-aa1d-d2fc80b1c530",
   "metadata": {},
   "outputs": [],
   "source": [
    "input = int(input(\"Enter a number: \"))\n",
    "if input % 5==0:\n",
    "   print(\"Hello\")\n",
    "else:\n",
    "    print(\"Bye\")"
   ]
  },
  {
   "cell_type": "code",
   "execution_count": 1,
   "id": "51d1c843-67c0-436e-8bc5-d0adb69416df",
   "metadata": {},
   "outputs": [
    {
     "name": "stdin",
     "output_type": "stream",
     "text": [
      "Enter the number:  368\n"
     ]
    },
    {
     "name": "stdout",
     "output_type": "stream",
     "text": [
      "The last digit is not divisible by 3\n"
     ]
    }
   ],
   "source": [
    "input = int(input(\"Enter the number: \"))\n",
    "last_digit = input % 10\n",
    "if last_digit % 3 == 0:\n",
    "    print(\"The last digit is divisible by 3\")\n",
    "else:\n",
    "    print(\"The last digit is not divisible by 3\")"
   ]
  },
  {
   "cell_type": "code",
   "execution_count": 6,
   "id": "df5b8445-2641-4d4c-a62d-b1dab8405207",
   "metadata": {},
   "outputs": [
    {
     "name": "stdin",
     "output_type": "stream",
     "text": [
      "Enter the number:  88\n"
     ]
    },
    {
     "name": "stdout",
     "output_type": "stream",
     "text": [
      "This is not three digit number\n"
     ]
    }
   ],
   "source": [
    "number = int(input(\"Enter the number: \"))\n",
    "if 100<= number <=999:\n",
    "    print(\"This is three digit number\")\n",
    "else:\n",
    "    print(\"This is not three digit number\")"
   ]
  },
  {
   "cell_type": "code",
   "execution_count": null,
   "id": "7ac53487-bfd6-4c86-b3fa-d9b868e32cf3",
   "metadata": {},
   "outputs": [],
   "source": []
  }
 ],
 "metadata": {
  "kernelspec": {
   "display_name": "Python 3 (ipykernel)",
   "language": "python",
   "name": "python3"
  },
  "language_info": {
   "codemirror_mode": {
    "name": "ipython",
    "version": 3
   },
   "file_extension": ".py",
   "mimetype": "text/x-python",
   "name": "python",
   "nbconvert_exporter": "python",
   "pygments_lexer": "ipython3",
   "version": "3.10.2"
  }
 },
 "nbformat": 4,
 "nbformat_minor": 5
}
